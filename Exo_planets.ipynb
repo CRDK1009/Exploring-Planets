{
  "nbformat": 4,
  "nbformat_minor": 0,
  "metadata": {
    "colab": {
      "name": "Exo_planets.ipynb",
      "provenance": [],
      "collapsed_sections": [],
      "authorship_tag": "ABX9TyP65eN9VzYgn+QhuLXDrGqS",
      "include_colab_link": true
    },
    "kernelspec": {
      "name": "python3",
      "display_name": "Python 3"
    }
  },
  "cells": [
    {
      "cell_type": "markdown",
      "metadata": {
        "id": "view-in-github",
        "colab_type": "text"
      },
      "source": [
        "<a href=\"https://colab.research.google.com/github/CRDK1009/Exploring-Planets/blob/main/Exo_planets.ipynb\" target=\"_parent\"><img src=\"https://colab.research.google.com/assets/colab-badge.svg\" alt=\"Open In Colab\"/></a>"
      ]
    },
    {
      "cell_type": "markdown",
      "metadata": {
        "id": "LWorTGOdf0Rh"
      },
      "source": [
        "#Our first glimpse at planets outside of the solar system we call home came in 1992 when several terrestrial-mass planets were detected orbiting the pulsar PSR B1257+12. In this dataset, you can become a space explorer too by analyzing the characteristics of all discovered exoplanets (plus some familiar faces like Mars, Saturn, and even Earth). Data fields include planet and host star attributes, discovery methods, and (of course) date of discovery.\n",
        "\n",
        "#Data was originally collected and continues to be updated by Hanno Rein at the Open Exoplanet Catalogue Github repository. If you discover any new exoplanets, please submit a pull request there.\n",
        "\n",
        "#Constants\n",
        "Jupiter mass: 1.8991766e+27 kg\n",
        "\n",
        "Solar mass: 1.9891e+30 kg\n",
        "\n",
        "Jupiter radius: 69911000 m\n",
        "\n",
        "Solar radius: 6.96e+08 m"
      ]
    },
    {
      "cell_type": "code",
      "metadata": {
        "id": "cRnwzTIv-8Dd"
      },
      "source": [
        "import matplotlib.pyplot as plt\n",
        "import pandas as pd\n",
        "import seaborn as sns"
      ],
      "execution_count": null,
      "outputs": []
    },
    {
      "cell_type": "markdown",
      "metadata": {
        "id": "kfKuWYJsO_Ju"
      },
      "source": [
        "#READ THE DATA\n"
      ]
    },
    {
      "cell_type": "markdown",
      "metadata": {
        "id": "cQcljhOqgAHN"
      },
      "source": [
        "##PlanetIdentifier: Primary identifier of planet\n",
        "\n",
        "##TypeFlag: [0=no known stellar binary companion; 1=P-type binary (circumbinary); 2=S-type binary; 3=orphan planet (no star)]\n",
        "\n",
        "##ListsPlanetIsOn: A list of lists the planet is on including \"Confirmed planets\", \"Controversial\", \"Kepler Objects of Interest\", etc.\n",
        "\n",
        "##Remaining field names are auto-descriptive and include units of measurement where available. Additional column descriptions can be found here.\n",
        "\n",
        "https://github.com/OpenExoplanetCatalogue/oec_tables/#column-description"
      ]
    },
    {
      "cell_type": "code",
      "metadata": {
        "id": "HgXqNcfMAOaf",
        "colab": {
          "base_uri": "https://localhost:8080/",
          "height": 224
        },
        "outputId": "8736aef3-f70d-45ac-903e-b05f55a2096f"
      },
      "source": [
        "df=pd.read_csv('oec.csv')\n",
        "df.head()"
      ],
      "execution_count": null,
      "outputs": [
        {
          "output_type": "execute_result",
          "data": {
            "text/html": [
              "<div>\n",
              "<style scoped>\n",
              "    .dataframe tbody tr th:only-of-type {\n",
              "        vertical-align: middle;\n",
              "    }\n",
              "\n",
              "    .dataframe tbody tr th {\n",
              "        vertical-align: top;\n",
              "    }\n",
              "\n",
              "    .dataframe thead th {\n",
              "        text-align: right;\n",
              "    }\n",
              "</style>\n",
              "<table border=\"1\" class=\"dataframe\">\n",
              "  <thead>\n",
              "    <tr style=\"text-align: right;\">\n",
              "      <th></th>\n",
              "      <th>PlanetIdentifier</th>\n",
              "      <th>TypeFlag</th>\n",
              "      <th>PlanetaryMassJpt</th>\n",
              "      <th>RadiusJpt</th>\n",
              "      <th>PeriodDays</th>\n",
              "      <th>SemiMajorAxisAU</th>\n",
              "      <th>Eccentricity</th>\n",
              "      <th>PeriastronDeg</th>\n",
              "      <th>LongitudeDeg</th>\n",
              "      <th>AscendingNodeDeg</th>\n",
              "      <th>InclinationDeg</th>\n",
              "      <th>SurfaceTempK</th>\n",
              "      <th>DiscoveryMethod</th>\n",
              "      <th>DiscoveryYear</th>\n",
              "      <th>LastUpdated</th>\n",
              "      <th>RightAscension</th>\n",
              "      <th>Declination</th>\n",
              "      <th>DistFromSunParsec</th>\n",
              "      <th>HostStarMassSlrMass</th>\n",
              "      <th>HostStarRadiusSlrRad</th>\n",
              "      <th>HostStarMetallicity</th>\n",
              "      <th>HostStarTempK</th>\n",
              "      <th>HostStarAgeGyr</th>\n",
              "      <th>ListsPlanetIsOn</th>\n",
              "    </tr>\n",
              "  </thead>\n",
              "  <tbody>\n",
              "    <tr>\n",
              "      <th>0</th>\n",
              "      <td>HD 143761 b</td>\n",
              "      <td>0</td>\n",
              "      <td>1.0450</td>\n",
              "      <td>NaN</td>\n",
              "      <td>39.845800</td>\n",
              "      <td>0.2196</td>\n",
              "      <td>0.037</td>\n",
              "      <td>270.6</td>\n",
              "      <td>NaN</td>\n",
              "      <td>NaN</td>\n",
              "      <td>NaN</td>\n",
              "      <td>NaN</td>\n",
              "      <td>RV</td>\n",
              "      <td>2016.0</td>\n",
              "      <td>16/07/11</td>\n",
              "      <td>16 01 03</td>\n",
              "      <td>+33 18 13</td>\n",
              "      <td>17.236</td>\n",
              "      <td>0.889</td>\n",
              "      <td>1.362</td>\n",
              "      <td>-0.31</td>\n",
              "      <td>5627.0</td>\n",
              "      <td>NaN</td>\n",
              "      <td>Confirmed planets</td>\n",
              "    </tr>\n",
              "    <tr>\n",
              "      <th>1</th>\n",
              "      <td>HD 143761 c</td>\n",
              "      <td>0</td>\n",
              "      <td>0.0790</td>\n",
              "      <td>NaN</td>\n",
              "      <td>102.540000</td>\n",
              "      <td>0.4123</td>\n",
              "      <td>0.050</td>\n",
              "      <td>190.0</td>\n",
              "      <td>NaN</td>\n",
              "      <td>NaN</td>\n",
              "      <td>NaN</td>\n",
              "      <td>NaN</td>\n",
              "      <td>RV</td>\n",
              "      <td>2016.0</td>\n",
              "      <td>16/07/11</td>\n",
              "      <td>16 01 03</td>\n",
              "      <td>+33 18 13</td>\n",
              "      <td>17.236</td>\n",
              "      <td>0.889</td>\n",
              "      <td>1.362</td>\n",
              "      <td>-0.31</td>\n",
              "      <td>5627.0</td>\n",
              "      <td>NaN</td>\n",
              "      <td>Confirmed planets</td>\n",
              "    </tr>\n",
              "    <tr>\n",
              "      <th>2</th>\n",
              "      <td>KOI-1843.03</td>\n",
              "      <td>0</td>\n",
              "      <td>0.0014</td>\n",
              "      <td>0.054</td>\n",
              "      <td>0.176891</td>\n",
              "      <td>0.0048</td>\n",
              "      <td>NaN</td>\n",
              "      <td>NaN</td>\n",
              "      <td>NaN</td>\n",
              "      <td>NaN</td>\n",
              "      <td>72.00</td>\n",
              "      <td>NaN</td>\n",
              "      <td>transit</td>\n",
              "      <td>2012.0</td>\n",
              "      <td>13/07/15</td>\n",
              "      <td>19 00 03.14</td>\n",
              "      <td>+40 13 14.7</td>\n",
              "      <td>NaN</td>\n",
              "      <td>0.460</td>\n",
              "      <td>0.450</td>\n",
              "      <td>0.00</td>\n",
              "      <td>3584.0</td>\n",
              "      <td>NaN</td>\n",
              "      <td>Controversial</td>\n",
              "    </tr>\n",
              "    <tr>\n",
              "      <th>3</th>\n",
              "      <td>KOI-1843.01</td>\n",
              "      <td>0</td>\n",
              "      <td>NaN</td>\n",
              "      <td>0.114</td>\n",
              "      <td>4.194525</td>\n",
              "      <td>0.0390</td>\n",
              "      <td>NaN</td>\n",
              "      <td>NaN</td>\n",
              "      <td>NaN</td>\n",
              "      <td>NaN</td>\n",
              "      <td>89.38</td>\n",
              "      <td>NaN</td>\n",
              "      <td>transit</td>\n",
              "      <td>NaN</td>\n",
              "      <td>NaN</td>\n",
              "      <td>19 00 03.14</td>\n",
              "      <td>+40 13 14.7</td>\n",
              "      <td>NaN</td>\n",
              "      <td>0.460</td>\n",
              "      <td>0.450</td>\n",
              "      <td>0.00</td>\n",
              "      <td>3584.0</td>\n",
              "      <td>NaN</td>\n",
              "      <td>Controversial</td>\n",
              "    </tr>\n",
              "    <tr>\n",
              "      <th>4</th>\n",
              "      <td>KOI-1843.02</td>\n",
              "      <td>0</td>\n",
              "      <td>NaN</td>\n",
              "      <td>0.071</td>\n",
              "      <td>6.356006</td>\n",
              "      <td>0.0520</td>\n",
              "      <td>NaN</td>\n",
              "      <td>NaN</td>\n",
              "      <td>NaN</td>\n",
              "      <td>NaN</td>\n",
              "      <td>88.24</td>\n",
              "      <td>NaN</td>\n",
              "      <td>transit</td>\n",
              "      <td>NaN</td>\n",
              "      <td>NaN</td>\n",
              "      <td>19 00 03.14</td>\n",
              "      <td>+40 13 14.7</td>\n",
              "      <td>NaN</td>\n",
              "      <td>0.460</td>\n",
              "      <td>0.450</td>\n",
              "      <td>0.00</td>\n",
              "      <td>3584.0</td>\n",
              "      <td>NaN</td>\n",
              "      <td>Controversial</td>\n",
              "    </tr>\n",
              "  </tbody>\n",
              "</table>\n",
              "</div>"
            ],
            "text/plain": [
              "  PlanetIdentifier  TypeFlag  ...  HostStarAgeGyr    ListsPlanetIsOn\n",
              "0      HD 143761 b         0  ...             NaN  Confirmed planets\n",
              "1      HD 143761 c         0  ...             NaN  Confirmed planets\n",
              "2      KOI-1843.03         0  ...             NaN      Controversial\n",
              "3      KOI-1843.01         0  ...             NaN      Controversial\n",
              "4      KOI-1843.02         0  ...             NaN      Controversial\n",
              "\n",
              "[5 rows x 24 columns]"
            ]
          },
          "metadata": {
            "tags": []
          },
          "execution_count": 2
        }
      ]
    },
    {
      "cell_type": "code",
      "metadata": {
        "id": "bmxnKKdhAT9N",
        "colab": {
          "base_uri": "https://localhost:8080/",
          "height": 34
        },
        "outputId": "8fcab42c-f3d8-4b98-ae2a-56f85f8c86c7"
      },
      "source": [
        "df.shape"
      ],
      "execution_count": null,
      "outputs": [
        {
          "output_type": "execute_result",
          "data": {
            "text/plain": [
              "(3584, 24)"
            ]
          },
          "metadata": {
            "tags": []
          },
          "execution_count": 3
        }
      ]
    },
    {
      "cell_type": "code",
      "metadata": {
        "id": "Pq0uw1qnAdER",
        "colab": {
          "base_uri": "https://localhost:8080/",
          "height": 442
        },
        "outputId": "59c86d3c-f7d6-4709-d891-55bc983da0d3"
      },
      "source": [
        "df.isnull().sum()"
      ],
      "execution_count": null,
      "outputs": [
        {
          "output_type": "execute_result",
          "data": {
            "text/plain": [
              "PlanetIdentifier           0\n",
              "TypeFlag                   0\n",
              "PlanetaryMassJpt        2271\n",
              "RadiusJpt                810\n",
              "PeriodDays                99\n",
              "SemiMajorAxisAU         2178\n",
              "Eccentricity            2476\n",
              "PeriastronDeg           3256\n",
              "LongitudeDeg            3541\n",
              "AscendingNodeDeg        3538\n",
              "InclinationDeg          2919\n",
              "SurfaceTempK            2843\n",
              "DiscoveryMethod           63\n",
              "DiscoveryYear             10\n",
              "LastUpdated                8\n",
              "RightAscension            10\n",
              "Declination               10\n",
              "DistFromSunParsec       1451\n",
              "HostStarMassSlrMass      168\n",
              "HostStarRadiusSlrRad     321\n",
              "HostStarMetallicity     1075\n",
              "HostStarTempK            129\n",
              "HostStarAgeGyr          3067\n",
              "ListsPlanetIsOn            0\n",
              "dtype: int64"
            ]
          },
          "metadata": {
            "tags": []
          },
          "execution_count": 4
        }
      ]
    },
    {
      "cell_type": "markdown",
      "metadata": {
        "id": "mhgGijvqPHTV"
      },
      "source": [
        "#VALUE COUNTS OF EACH TARGET CONSTANT\n"
      ]
    },
    {
      "cell_type": "code",
      "metadata": {
        "id": "Yvt5jY7WAgdM",
        "colab": {
          "base_uri": "https://localhost:8080/",
          "height": 255
        },
        "outputId": "f44c0e14-2114-4089-fbcf-9394e13fede8"
      },
      "source": [
        "df['ListsPlanetIsOn'].value_counts()"
      ],
      "execution_count": null,
      "outputs": [
        {
          "output_type": "execute_result",
          "data": {
            "text/plain": [
              "Confirmed planets                                                                     3295\n",
              "Confirmed planets, Planets in binary systems, S-type                                   135\n",
              "Controversial                                                                           72\n",
              "Confirmed planets, Planets in binary systems, P-type                                    21\n",
              "Controversial, Planets in binary systems, S-type                                        20\n",
              "Confirmed planets, Planets in open clusters                                             13\n",
              "Solar System                                                                             9\n",
              "Controversial, Planets in binary systems, P-type                                         7\n",
              "Retracted planet candidate                                                               4\n",
              "Kepler Objects of Interest                                                               4\n",
              "Confirmed planets, Orphan planets                                                        2\n",
              "Confirmed planets, Planets in binary systems, P-type, Planets in globular clusters       1\n",
              "Planets in binary systems, S-type, Confirmed planets                                     1\n",
              "Name: ListsPlanetIsOn, dtype: int64"
            ]
          },
          "metadata": {
            "tags": []
          },
          "execution_count": 5
        }
      ]
    },
    {
      "cell_type": "markdown",
      "metadata": {
        "id": "X0fJOEyQPVga"
      },
      "source": [
        "#REPLACE CATEGORICAL VALUES WITH NUMERICAL VALUES\n"
      ]
    },
    {
      "cell_type": "code",
      "metadata": {
        "id": "imKKSSAJBPZF"
      },
      "source": [
        "cleanup_nums = {\"ListsPlanetIsOn\": {\"Confirmed planets\": 1, \"Confirmed planets, Planets in binary systems, S-type\": 2, \"Controversial\": 3, \"Confirmed planets, Planets in binary systems, P-type\": 4,\n",
        "                                  \"Controversial, Planets in binary systems, S-type\": 5, \"Confirmed planets, Planets in open clusters\": 6, \"Solar System\":7,\n",
        "                                  'Controversial, Planets in binary systems, P-type':8,'Kepler Objects of Interest':9,'Retracted planet candidate':10,'Confirmed planets, Orphan planets':11,\n",
        "                                  'Confirmed planets, Planets in binary systems, P-type, Planets in globular clusters':12,'Planets in binary systems, S-type, Confirmed planets':13 }}"
      ],
      "execution_count": null,
      "outputs": []
    },
    {
      "cell_type": "code",
      "metadata": {
        "id": "KpZ86VRTELVM",
        "colab": {
          "base_uri": "https://localhost:8080/",
          "height": 224
        },
        "outputId": "cc62f4a2-fbe7-47d3-e71e-4b3f1ed775fe"
      },
      "source": [
        "df.replace(cleanup_nums, inplace=True)\n",
        "df.head()"
      ],
      "execution_count": null,
      "outputs": [
        {
          "output_type": "execute_result",
          "data": {
            "text/html": [
              "<div>\n",
              "<style scoped>\n",
              "    .dataframe tbody tr th:only-of-type {\n",
              "        vertical-align: middle;\n",
              "    }\n",
              "\n",
              "    .dataframe tbody tr th {\n",
              "        vertical-align: top;\n",
              "    }\n",
              "\n",
              "    .dataframe thead th {\n",
              "        text-align: right;\n",
              "    }\n",
              "</style>\n",
              "<table border=\"1\" class=\"dataframe\">\n",
              "  <thead>\n",
              "    <tr style=\"text-align: right;\">\n",
              "      <th></th>\n",
              "      <th>PlanetIdentifier</th>\n",
              "      <th>TypeFlag</th>\n",
              "      <th>PlanetaryMassJpt</th>\n",
              "      <th>RadiusJpt</th>\n",
              "      <th>PeriodDays</th>\n",
              "      <th>SemiMajorAxisAU</th>\n",
              "      <th>Eccentricity</th>\n",
              "      <th>PeriastronDeg</th>\n",
              "      <th>LongitudeDeg</th>\n",
              "      <th>AscendingNodeDeg</th>\n",
              "      <th>InclinationDeg</th>\n",
              "      <th>SurfaceTempK</th>\n",
              "      <th>DiscoveryMethod</th>\n",
              "      <th>DiscoveryYear</th>\n",
              "      <th>LastUpdated</th>\n",
              "      <th>RightAscension</th>\n",
              "      <th>Declination</th>\n",
              "      <th>DistFromSunParsec</th>\n",
              "      <th>HostStarMassSlrMass</th>\n",
              "      <th>HostStarRadiusSlrRad</th>\n",
              "      <th>HostStarMetallicity</th>\n",
              "      <th>HostStarTempK</th>\n",
              "      <th>HostStarAgeGyr</th>\n",
              "      <th>ListsPlanetIsOn</th>\n",
              "    </tr>\n",
              "  </thead>\n",
              "  <tbody>\n",
              "    <tr>\n",
              "      <th>0</th>\n",
              "      <td>HD 143761 b</td>\n",
              "      <td>0</td>\n",
              "      <td>1.0450</td>\n",
              "      <td>NaN</td>\n",
              "      <td>39.845800</td>\n",
              "      <td>0.2196</td>\n",
              "      <td>0.037</td>\n",
              "      <td>270.6</td>\n",
              "      <td>NaN</td>\n",
              "      <td>NaN</td>\n",
              "      <td>NaN</td>\n",
              "      <td>NaN</td>\n",
              "      <td>RV</td>\n",
              "      <td>2016.0</td>\n",
              "      <td>16/07/11</td>\n",
              "      <td>16 01 03</td>\n",
              "      <td>+33 18 13</td>\n",
              "      <td>17.236</td>\n",
              "      <td>0.889</td>\n",
              "      <td>1.362</td>\n",
              "      <td>-0.31</td>\n",
              "      <td>5627.0</td>\n",
              "      <td>NaN</td>\n",
              "      <td>1</td>\n",
              "    </tr>\n",
              "    <tr>\n",
              "      <th>1</th>\n",
              "      <td>HD 143761 c</td>\n",
              "      <td>0</td>\n",
              "      <td>0.0790</td>\n",
              "      <td>NaN</td>\n",
              "      <td>102.540000</td>\n",
              "      <td>0.4123</td>\n",
              "      <td>0.050</td>\n",
              "      <td>190.0</td>\n",
              "      <td>NaN</td>\n",
              "      <td>NaN</td>\n",
              "      <td>NaN</td>\n",
              "      <td>NaN</td>\n",
              "      <td>RV</td>\n",
              "      <td>2016.0</td>\n",
              "      <td>16/07/11</td>\n",
              "      <td>16 01 03</td>\n",
              "      <td>+33 18 13</td>\n",
              "      <td>17.236</td>\n",
              "      <td>0.889</td>\n",
              "      <td>1.362</td>\n",
              "      <td>-0.31</td>\n",
              "      <td>5627.0</td>\n",
              "      <td>NaN</td>\n",
              "      <td>1</td>\n",
              "    </tr>\n",
              "    <tr>\n",
              "      <th>2</th>\n",
              "      <td>KOI-1843.03</td>\n",
              "      <td>0</td>\n",
              "      <td>0.0014</td>\n",
              "      <td>0.054</td>\n",
              "      <td>0.176891</td>\n",
              "      <td>0.0048</td>\n",
              "      <td>NaN</td>\n",
              "      <td>NaN</td>\n",
              "      <td>NaN</td>\n",
              "      <td>NaN</td>\n",
              "      <td>72.00</td>\n",
              "      <td>NaN</td>\n",
              "      <td>transit</td>\n",
              "      <td>2012.0</td>\n",
              "      <td>13/07/15</td>\n",
              "      <td>19 00 03.14</td>\n",
              "      <td>+40 13 14.7</td>\n",
              "      <td>NaN</td>\n",
              "      <td>0.460</td>\n",
              "      <td>0.450</td>\n",
              "      <td>0.00</td>\n",
              "      <td>3584.0</td>\n",
              "      <td>NaN</td>\n",
              "      <td>3</td>\n",
              "    </tr>\n",
              "    <tr>\n",
              "      <th>3</th>\n",
              "      <td>KOI-1843.01</td>\n",
              "      <td>0</td>\n",
              "      <td>NaN</td>\n",
              "      <td>0.114</td>\n",
              "      <td>4.194525</td>\n",
              "      <td>0.0390</td>\n",
              "      <td>NaN</td>\n",
              "      <td>NaN</td>\n",
              "      <td>NaN</td>\n",
              "      <td>NaN</td>\n",
              "      <td>89.38</td>\n",
              "      <td>NaN</td>\n",
              "      <td>transit</td>\n",
              "      <td>NaN</td>\n",
              "      <td>NaN</td>\n",
              "      <td>19 00 03.14</td>\n",
              "      <td>+40 13 14.7</td>\n",
              "      <td>NaN</td>\n",
              "      <td>0.460</td>\n",
              "      <td>0.450</td>\n",
              "      <td>0.00</td>\n",
              "      <td>3584.0</td>\n",
              "      <td>NaN</td>\n",
              "      <td>3</td>\n",
              "    </tr>\n",
              "    <tr>\n",
              "      <th>4</th>\n",
              "      <td>KOI-1843.02</td>\n",
              "      <td>0</td>\n",
              "      <td>NaN</td>\n",
              "      <td>0.071</td>\n",
              "      <td>6.356006</td>\n",
              "      <td>0.0520</td>\n",
              "      <td>NaN</td>\n",
              "      <td>NaN</td>\n",
              "      <td>NaN</td>\n",
              "      <td>NaN</td>\n",
              "      <td>88.24</td>\n",
              "      <td>NaN</td>\n",
              "      <td>transit</td>\n",
              "      <td>NaN</td>\n",
              "      <td>NaN</td>\n",
              "      <td>19 00 03.14</td>\n",
              "      <td>+40 13 14.7</td>\n",
              "      <td>NaN</td>\n",
              "      <td>0.460</td>\n",
              "      <td>0.450</td>\n",
              "      <td>0.00</td>\n",
              "      <td>3584.0</td>\n",
              "      <td>NaN</td>\n",
              "      <td>3</td>\n",
              "    </tr>\n",
              "  </tbody>\n",
              "</table>\n",
              "</div>"
            ],
            "text/plain": [
              "  PlanetIdentifier  TypeFlag  ...  HostStarAgeGyr  ListsPlanetIsOn\n",
              "0      HD 143761 b         0  ...             NaN                1\n",
              "1      HD 143761 c         0  ...             NaN                1\n",
              "2      KOI-1843.03         0  ...             NaN                3\n",
              "3      KOI-1843.01         0  ...             NaN                3\n",
              "4      KOI-1843.02         0  ...             NaN                3\n",
              "\n",
              "[5 rows x 24 columns]"
            ]
          },
          "metadata": {
            "tags": []
          },
          "execution_count": 7
        }
      ]
    },
    {
      "cell_type": "markdown",
      "metadata": {
        "id": "k6fplI3iPd7w"
      },
      "source": [
        "#SPLIT THE DATA ACCORDING TO THE TARGET DATA"
      ]
    },
    {
      "cell_type": "code",
      "metadata": {
        "id": "KwJdQKjOERX-"
      },
      "source": [
        "df_1=pd.DataFrame(df[(df['ListsPlanetIsOn'] == 1)]) \n",
        "df_2=pd.DataFrame(df[(df['ListsPlanetIsOn'] == 2)]) \n",
        "df_3=pd.DataFrame(df[(df['ListsPlanetIsOn'] == 3)]) \n",
        "df_4=pd.DataFrame(df[(df['ListsPlanetIsOn'] == 4)]) \n",
        "df_5=pd.DataFrame(df[(df['ListsPlanetIsOn'] == 5)])\n",
        "df_6=pd.DataFrame(df[(df['ListsPlanetIsOn'] == 6)]) \n",
        "df_7=pd.DataFrame(df[(df['ListsPlanetIsOn'] == 7)]) \n",
        "df_8=pd.DataFrame(df[(df['ListsPlanetIsOn'] == 8)]) \n",
        "df_9=pd.DataFrame(df[(df['ListsPlanetIsOn'] == 9)]) \n",
        "df_10=pd.DataFrame(df[(df['ListsPlanetIsOn'] == 10)])\n",
        "df_11=pd.DataFrame(df[(df['ListsPlanetIsOn'] == 11)]) \n",
        "df_12=pd.DataFrame(df[(df['ListsPlanetIsOn'] == 12)]) \n",
        "df_13=pd.DataFrame(df[(df['ListsPlanetIsOn'] == 13)]) "
      ],
      "execution_count": null,
      "outputs": []
    },
    {
      "cell_type": "code",
      "metadata": {
        "id": "N61kQw8jYBTv",
        "colab": {
          "base_uri": "https://localhost:8080/",
          "height": 221
        },
        "outputId": "c14192c8-5d8f-4a00-e2bc-9520594fcc12"
      },
      "source": [
        "df['Declination'].value_counts()"
      ],
      "execution_count": null,
      "outputs": [
        {
          "output_type": "execute_result",
          "data": {
            "text/plain": [
              "-60 30 42       9\n",
              "-34 59 23       8\n",
              "+49 18 19       7\n",
              "+38 20 37       7\n",
              "-05 02 36.44    7\n",
              "               ..\n",
              "+18 46 12       1\n",
              "-56 02 24       1\n",
              "+42 44 35       1\n",
              "+35 39 42       1\n",
              "+45 02 04       1\n",
              "Name: Declination, Length: 2592, dtype: int64"
            ]
          },
          "metadata": {
            "tags": []
          },
          "execution_count": 9
        }
      ]
    },
    {
      "cell_type": "code",
      "metadata": {
        "id": "bOSt23-4FhIX",
        "colab": {
          "base_uri": "https://localhost:8080/",
          "height": 442
        },
        "outputId": "21137c09-01b1-4914-a71c-f51b3d9cc130"
      },
      "source": [
        "df_1.isnull().sum()"
      ],
      "execution_count": null,
      "outputs": [
        {
          "output_type": "execute_result",
          "data": {
            "text/plain": [
              "PlanetIdentifier           0\n",
              "TypeFlag                   0\n",
              "PlanetaryMassJpt        2208\n",
              "RadiusJpt                630\n",
              "PeriodDays                75\n",
              "SemiMajorAxisAU         2142\n",
              "Eccentricity            2401\n",
              "PeriastronDeg           3058\n",
              "LongitudeDeg            3276\n",
              "AscendingNodeDeg        3272\n",
              "InclinationDeg          2730\n",
              "SurfaceTempK            2632\n",
              "DiscoveryMethod           53\n",
              "DiscoveryYear              0\n",
              "LastUpdated                0\n",
              "RightAscension             1\n",
              "Declination                1\n",
              "DistFromSunParsec       1407\n",
              "HostStarMassSlrMass      134\n",
              "HostStarRadiusSlrRad     244\n",
              "HostStarMetallicity      989\n",
              "HostStarTempK             59\n",
              "HostStarAgeGyr          2879\n",
              "ListsPlanetIsOn            0\n",
              "dtype: int64"
            ]
          },
          "metadata": {
            "tags": []
          },
          "execution_count": 10
        }
      ]
    },
    {
      "cell_type": "code",
      "metadata": {
        "id": "FYiKBXDwWpq9",
        "colab": {
          "base_uri": "https://localhost:8080/",
          "height": 442
        },
        "outputId": "343a985a-0bfd-4450-b26d-54cfdca1d1a0"
      },
      "source": [
        "df.dtypes"
      ],
      "execution_count": null,
      "outputs": [
        {
          "output_type": "execute_result",
          "data": {
            "text/plain": [
              "PlanetIdentifier         object\n",
              "TypeFlag                  int64\n",
              "PlanetaryMassJpt        float64\n",
              "RadiusJpt               float64\n",
              "PeriodDays              float64\n",
              "SemiMajorAxisAU         float64\n",
              "Eccentricity            float64\n",
              "PeriastronDeg           float64\n",
              "LongitudeDeg            float64\n",
              "AscendingNodeDeg        float64\n",
              "InclinationDeg          float64\n",
              "SurfaceTempK            float64\n",
              "DiscoveryMethod          object\n",
              "DiscoveryYear           float64\n",
              "LastUpdated              object\n",
              "RightAscension           object\n",
              "Declination              object\n",
              "DistFromSunParsec       float64\n",
              "HostStarMassSlrMass     float64\n",
              "HostStarRadiusSlrRad    float64\n",
              "HostStarMetallicity     float64\n",
              "HostStarTempK           float64\n",
              "HostStarAgeGyr          float64\n",
              "ListsPlanetIsOn           int64\n",
              "dtype: object"
            ]
          },
          "metadata": {
            "tags": []
          },
          "execution_count": 11
        }
      ]
    },
    {
      "cell_type": "markdown",
      "metadata": {
        "id": "G_CnIiCLPo-v"
      },
      "source": [
        "#FILL ALL MISSING VALUES"
      ]
    },
    {
      "cell_type": "code",
      "metadata": {
        "id": "8encRmqKdWZR"
      },
      "source": [
        "df_1=df_1.fillna(df_1.mean())\n",
        "df_2=df_2.fillna(df_2.mean())\n",
        "df_3=df_3.fillna(df_3.mean())\n",
        "df_4=df_4.fillna(df_4.mean())\n",
        "df_5=df_5.fillna(df_5.mean())\n",
        "df_6=df_6.fillna(df_6.mean())\n",
        "df_7=df_7.fillna(df_7.mean())\n",
        "df_8=df_8.fillna(df_8.mean())\n",
        "df_9=df_9.fillna(df_9.mean())\n",
        "df_10=df_10.fillna(df_10.mean())\n",
        "df_12=df_12.fillna(df_12.mean())\n",
        "df_13=df_13.fillna(df_13.mean())"
      ],
      "execution_count": null,
      "outputs": []
    },
    {
      "cell_type": "code",
      "metadata": {
        "id": "xYfZ6OXHmT8F",
        "colab": {
          "base_uri": "https://localhost:8080/",
          "height": 442
        },
        "outputId": "46542501-8c6b-4fa4-c3fd-75dd72831a6e"
      },
      "source": [
        "df_5.isnull().sum()"
      ],
      "execution_count": null,
      "outputs": [
        {
          "output_type": "execute_result",
          "data": {
            "text/plain": [
              "PlanetIdentifier        0\n",
              "TypeFlag                0\n",
              "PlanetaryMassJpt        0\n",
              "RadiusJpt               0\n",
              "PeriodDays              0\n",
              "SemiMajorAxisAU         0\n",
              "Eccentricity            0\n",
              "PeriastronDeg           0\n",
              "LongitudeDeg            0\n",
              "AscendingNodeDeg        0\n",
              "InclinationDeg          0\n",
              "SurfaceTempK            0\n",
              "DiscoveryMethod         0\n",
              "DiscoveryYear           0\n",
              "LastUpdated             1\n",
              "RightAscension          0\n",
              "Declination             0\n",
              "DistFromSunParsec       0\n",
              "HostStarMassSlrMass     0\n",
              "HostStarRadiusSlrRad    0\n",
              "HostStarMetallicity     0\n",
              "HostStarTempK           0\n",
              "HostStarAgeGyr          0\n",
              "ListsPlanetIsOn         0\n",
              "dtype: int64"
            ]
          },
          "metadata": {
            "tags": []
          },
          "execution_count": 13
        }
      ]
    },
    {
      "cell_type": "markdown",
      "metadata": {
        "id": "n0JBID9CQA68"
      },
      "source": [
        "#VALUES TAKEN FOR ANALYSIS (LISTS OF PLANETS)\n"
      ]
    },
    {
      "cell_type": "markdown",
      "metadata": {
        "id": "J8elFPTuhrnw"
      },
      "source": [
        "##I have chosen these values as my target constant because they had previous values to fill for their missing values while the others did not therefore I chose 1,2,3,5."
      ]
    },
    {
      "cell_type": "code",
      "metadata": {
        "id": "pTH9tjHDmrtC",
        "colab": {
          "base_uri": "https://localhost:8080/",
          "height": 34
        },
        "outputId": "40afe606-4e20-41de-d78f-20c8fb1af516"
      },
      "source": [
        "1,2,3,5"
      ],
      "execution_count": null,
      "outputs": [
        {
          "output_type": "execute_result",
          "data": {
            "text/plain": [
              "(1, 2, 3, 5)"
            ]
          },
          "metadata": {
            "tags": []
          },
          "execution_count": 14
        }
      ]
    },
    {
      "cell_type": "code",
      "metadata": {
        "id": "v80weJuvcAVG",
        "colab": {
          "base_uri": "https://localhost:8080/",
          "height": 224
        },
        "outputId": "7d6e43bb-ca32-4991-93f1-a088cf55fadc"
      },
      "source": [
        "df_1.head()"
      ],
      "execution_count": null,
      "outputs": [
        {
          "output_type": "execute_result",
          "data": {
            "text/html": [
              "<div>\n",
              "<style scoped>\n",
              "    .dataframe tbody tr th:only-of-type {\n",
              "        vertical-align: middle;\n",
              "    }\n",
              "\n",
              "    .dataframe tbody tr th {\n",
              "        vertical-align: top;\n",
              "    }\n",
              "\n",
              "    .dataframe thead th {\n",
              "        text-align: right;\n",
              "    }\n",
              "</style>\n",
              "<table border=\"1\" class=\"dataframe\">\n",
              "  <thead>\n",
              "    <tr style=\"text-align: right;\">\n",
              "      <th></th>\n",
              "      <th>PlanetIdentifier</th>\n",
              "      <th>TypeFlag</th>\n",
              "      <th>PlanetaryMassJpt</th>\n",
              "      <th>RadiusJpt</th>\n",
              "      <th>PeriodDays</th>\n",
              "      <th>SemiMajorAxisAU</th>\n",
              "      <th>Eccentricity</th>\n",
              "      <th>PeriastronDeg</th>\n",
              "      <th>LongitudeDeg</th>\n",
              "      <th>AscendingNodeDeg</th>\n",
              "      <th>InclinationDeg</th>\n",
              "      <th>SurfaceTempK</th>\n",
              "      <th>DiscoveryMethod</th>\n",
              "      <th>DiscoveryYear</th>\n",
              "      <th>LastUpdated</th>\n",
              "      <th>RightAscension</th>\n",
              "      <th>Declination</th>\n",
              "      <th>DistFromSunParsec</th>\n",
              "      <th>HostStarMassSlrMass</th>\n",
              "      <th>HostStarRadiusSlrRad</th>\n",
              "      <th>HostStarMetallicity</th>\n",
              "      <th>HostStarTempK</th>\n",
              "      <th>HostStarAgeGyr</th>\n",
              "      <th>ListsPlanetIsOn</th>\n",
              "    </tr>\n",
              "  </thead>\n",
              "  <tbody>\n",
              "    <tr>\n",
              "      <th>0</th>\n",
              "      <td>HD 143761 b</td>\n",
              "      <td>0</td>\n",
              "      <td>1.045</td>\n",
              "      <td>0.360402</td>\n",
              "      <td>39.845800</td>\n",
              "      <td>0.2196</td>\n",
              "      <td>0.037000</td>\n",
              "      <td>270.600000</td>\n",
              "      <td>113.476092</td>\n",
              "      <td>80.80613</td>\n",
              "      <td>83.84673</td>\n",
              "      <td>843.945249</td>\n",
              "      <td>RV</td>\n",
              "      <td>2016.0</td>\n",
              "      <td>16/07/11</td>\n",
              "      <td>16 01 03</td>\n",
              "      <td>+33 18 13</td>\n",
              "      <td>17.236</td>\n",
              "      <td>0.889</td>\n",
              "      <td>1.362</td>\n",
              "      <td>-0.31</td>\n",
              "      <td>5627.0</td>\n",
              "      <td>4.634975</td>\n",
              "      <td>1</td>\n",
              "    </tr>\n",
              "    <tr>\n",
              "      <th>1</th>\n",
              "      <td>HD 143761 c</td>\n",
              "      <td>0</td>\n",
              "      <td>0.079</td>\n",
              "      <td>0.360402</td>\n",
              "      <td>102.540000</td>\n",
              "      <td>0.4123</td>\n",
              "      <td>0.050000</td>\n",
              "      <td>190.000000</td>\n",
              "      <td>113.476092</td>\n",
              "      <td>80.80613</td>\n",
              "      <td>83.84673</td>\n",
              "      <td>843.945249</td>\n",
              "      <td>RV</td>\n",
              "      <td>2016.0</td>\n",
              "      <td>16/07/11</td>\n",
              "      <td>16 01 03</td>\n",
              "      <td>+33 18 13</td>\n",
              "      <td>17.236</td>\n",
              "      <td>0.889</td>\n",
              "      <td>1.362</td>\n",
              "      <td>-0.31</td>\n",
              "      <td>5627.0</td>\n",
              "      <td>4.634975</td>\n",
              "      <td>1</td>\n",
              "    </tr>\n",
              "    <tr>\n",
              "      <th>5</th>\n",
              "      <td>Kepler-9 b</td>\n",
              "      <td>0</td>\n",
              "      <td>0.250</td>\n",
              "      <td>0.840000</td>\n",
              "      <td>19.224180</td>\n",
              "      <td>0.1430</td>\n",
              "      <td>0.062600</td>\n",
              "      <td>153.940443</td>\n",
              "      <td>113.476092</td>\n",
              "      <td>80.80613</td>\n",
              "      <td>87.10000</td>\n",
              "      <td>707.200000</td>\n",
              "      <td>transit</td>\n",
              "      <td>2010.0</td>\n",
              "      <td>15/12/03</td>\n",
              "      <td>19 02 17</td>\n",
              "      <td>+38 24 03</td>\n",
              "      <td>650.000</td>\n",
              "      <td>1.070</td>\n",
              "      <td>1.020</td>\n",
              "      <td>0.12</td>\n",
              "      <td>5777.0</td>\n",
              "      <td>4.634975</td>\n",
              "      <td>1</td>\n",
              "    </tr>\n",
              "    <tr>\n",
              "      <th>6</th>\n",
              "      <td>Kepler-9 c</td>\n",
              "      <td>0</td>\n",
              "      <td>0.170</td>\n",
              "      <td>0.820000</td>\n",
              "      <td>39.031060</td>\n",
              "      <td>0.2290</td>\n",
              "      <td>0.068400</td>\n",
              "      <td>153.940443</td>\n",
              "      <td>113.476092</td>\n",
              "      <td>80.80613</td>\n",
              "      <td>87.20000</td>\n",
              "      <td>557.900000</td>\n",
              "      <td>transit</td>\n",
              "      <td>2010.0</td>\n",
              "      <td>15/12/03</td>\n",
              "      <td>19 02 17</td>\n",
              "      <td>+38 24 03</td>\n",
              "      <td>650.000</td>\n",
              "      <td>1.070</td>\n",
              "      <td>1.020</td>\n",
              "      <td>0.12</td>\n",
              "      <td>5777.0</td>\n",
              "      <td>4.634975</td>\n",
              "      <td>1</td>\n",
              "    </tr>\n",
              "    <tr>\n",
              "      <th>7</th>\n",
              "      <td>Kepler-9 d</td>\n",
              "      <td>0</td>\n",
              "      <td>0.022</td>\n",
              "      <td>0.147000</td>\n",
              "      <td>1.592851</td>\n",
              "      <td>0.0271</td>\n",
              "      <td>0.160493</td>\n",
              "      <td>153.940443</td>\n",
              "      <td>113.476092</td>\n",
              "      <td>80.80613</td>\n",
              "      <td>83.84673</td>\n",
              "      <td>1601.500000</td>\n",
              "      <td>transit</td>\n",
              "      <td>2010.0</td>\n",
              "      <td>14/03/10</td>\n",
              "      <td>19 02 17</td>\n",
              "      <td>+38 24 03</td>\n",
              "      <td>650.000</td>\n",
              "      <td>1.070</td>\n",
              "      <td>1.020</td>\n",
              "      <td>0.12</td>\n",
              "      <td>5777.0</td>\n",
              "      <td>4.634975</td>\n",
              "      <td>1</td>\n",
              "    </tr>\n",
              "  </tbody>\n",
              "</table>\n",
              "</div>"
            ],
            "text/plain": [
              "  PlanetIdentifier  TypeFlag  ...  HostStarAgeGyr  ListsPlanetIsOn\n",
              "0      HD 143761 b         0  ...        4.634975                1\n",
              "1      HD 143761 c         0  ...        4.634975                1\n",
              "5       Kepler-9 b         0  ...        4.634975                1\n",
              "6       Kepler-9 c         0  ...        4.634975                1\n",
              "7       Kepler-9 d         0  ...        4.634975                1\n",
              "\n",
              "[5 rows x 24 columns]"
            ]
          },
          "metadata": {
            "tags": []
          },
          "execution_count": 23
        }
      ]
    },
    {
      "cell_type": "code",
      "metadata": {
        "id": "6LPlFpryZjcX"
      },
      "source": [
        "a=df_1['RightAscension'].mode()\n",
        "b=df_1['Declination'].mode()\n",
        "c=df_1['DiscoveryMethod'].mode()"
      ],
      "execution_count": null,
      "outputs": []
    },
    {
      "cell_type": "code",
      "metadata": {
        "id": "NdaCMosQgnFZ",
        "colab": {
          "base_uri": "https://localhost:8080/",
          "height": 153
        },
        "outputId": "03997cb6-6b19-4040-be7f-515c8ef95d47"
      },
      "source": [
        "a,b,c"
      ],
      "execution_count": null,
      "outputs": [
        {
          "output_type": "execute_result",
          "data": {
            "text/plain": [
              "(0    01 37 54\n",
              " 1    18 57 44\n",
              " 2    19 19 26\n",
              " dtype: object, 0    +38 20 37\n",
              " 1    +49 18 19\n",
              " 2    -60 30 42\n",
              " dtype: object, 0    transit\n",
              " dtype: object)"
            ]
          },
          "metadata": {
            "tags": []
          },
          "execution_count": 48
        }
      ]
    },
    {
      "cell_type": "code",
      "metadata": {
        "id": "3FH22p-QbpI1"
      },
      "source": [
        "d=df_2['RightAscension'].mode()\n",
        "e=df_2['Declination'].mode()\n",
        "f=df_2['DiscoveryMethod'].mode()"
      ],
      "execution_count": null,
      "outputs": []
    },
    {
      "cell_type": "code",
      "metadata": {
        "id": "U3A-kZ6mgr4n",
        "colab": {
          "base_uri": "https://localhost:8080/",
          "height": 119
        },
        "outputId": "e131fbc4-0723-4176-a8f5-262bfc15e0cf"
      },
      "source": [
        "d,e,f"
      ],
      "execution_count": null,
      "outputs": [
        {
          "output_type": "execute_result",
          "data": {
            "text/plain": [
              "(0    08 52 35.81093\n",
              " 1    19 19 00.54910\n",
              " dtype: object, 0    +28 19 50.9511\n",
              " 1    +41 38 04.5682\n",
              " dtype: object, 0    RV\n",
              " dtype: object)"
            ]
          },
          "metadata": {
            "tags": []
          },
          "execution_count": 49
        }
      ]
    },
    {
      "cell_type": "code",
      "metadata": {
        "id": "ZgeChxwBbxQ1"
      },
      "source": [
        "g=df_3['RightAscension'].mode()\n",
        "h=df_3['Declination'].mode()\n",
        "i=df_3['DiscoveryMethod'].mode()"
      ],
      "execution_count": null,
      "outputs": []
    },
    {
      "cell_type": "code",
      "metadata": {
        "id": "5BKxOUF5guqv",
        "colab": {
          "base_uri": "https://localhost:8080/",
          "height": 85
        },
        "outputId": "10d5cb71-d7a0-469c-b54a-f637ff72bbe1"
      },
      "source": [
        "g,h,i"
      ],
      "execution_count": null,
      "outputs": [
        {
          "output_type": "execute_result",
          "data": {
            "text/plain": [
              "(0    01 44 04\n",
              " dtype: object, 0    -15 56 15\n",
              " dtype: object, 0    RV\n",
              " dtype: object)"
            ]
          },
          "metadata": {
            "tags": []
          },
          "execution_count": 50
        }
      ]
    },
    {
      "cell_type": "code",
      "metadata": {
        "id": "1MvLh_KjbyV1"
      },
      "source": [
        "j=df_5['RightAscension'].mode()\n",
        "k=df_5['Declination'].mode()\n",
        "l=df_5['DiscoveryMethod'].mode()"
      ],
      "execution_count": null,
      "outputs": []
    },
    {
      "cell_type": "code",
      "metadata": {
        "id": "HBaEA7p1gzE_",
        "colab": {
          "base_uri": "https://localhost:8080/",
          "height": 85
        },
        "outputId": "9ffdfc7f-d5cf-46dd-e5ca-d0ca80c7717d"
      },
      "source": [
        "j,k,l"
      ],
      "execution_count": null,
      "outputs": [
        {
          "output_type": "execute_result",
          "data": {
            "text/plain": [
              "(0    17 18 57\n",
              " dtype: object, 0    -34 59 23\n",
              " dtype: object, 0    RV\n",
              " dtype: object)"
            ]
          },
          "metadata": {
            "tags": []
          },
          "execution_count": 51
        }
      ]
    },
    {
      "cell_type": "code",
      "metadata": {
        "id": "7HUrKilkb79V"
      },
      "source": [
        "df_1['RightAscension']=df_1['RightAscension'].fillna('01 37 54')\n",
        "df_1['Declination']=df_1['Declination'].fillna('+38 20 37')\n",
        "df_1['DiscoveryMethod']=df_1['DiscoveryMethod'].fillna('transit')\n",
        "df_2['RightAscension']=df_2['RightAscension'].fillna('08 52 35.81093')\n",
        "df_2['Declination']=df_2['Declination'].fillna('+28 19 50.9511')\n",
        "df_2['DiscoveryMethod']=df_2['DiscoveryMethod'].fillna('RV')\n",
        "df_3['RightAscension']=df_3['RightAscension'].fillna('01 44 04')\n",
        "df_3['Declination']=df_3['Declination'].fillna('-15 56 15')\n",
        "df_3['DiscoveryMethod']=df_3['DiscoveryMethod'].fillna('RV')\n",
        "df_5['RightAscension']=df_5['RightAscension'].fillna('17 18 57')\n",
        "df_5['Declination']=df_5['Declination'].fillna('-34 59 23')\n",
        "df_5['DiscoveryMethod']=df_5['DiscoveryMethod'].fillna('RV')"
      ],
      "execution_count": null,
      "outputs": []
    },
    {
      "cell_type": "code",
      "metadata": {
        "id": "GZViLXnifN8Q",
        "colab": {
          "base_uri": "https://localhost:8080/",
          "height": 442
        },
        "outputId": "fadf16e2-acde-4e53-9887-85c270e51822"
      },
      "source": [
        "df_1.isnull().sum()"
      ],
      "execution_count": null,
      "outputs": [
        {
          "output_type": "execute_result",
          "data": {
            "text/plain": [
              "PlanetIdentifier        0\n",
              "TypeFlag                0\n",
              "PlanetaryMassJpt        0\n",
              "RadiusJpt               0\n",
              "PeriodDays              0\n",
              "SemiMajorAxisAU         0\n",
              "Eccentricity            0\n",
              "PeriastronDeg           0\n",
              "LongitudeDeg            0\n",
              "AscendingNodeDeg        0\n",
              "InclinationDeg          0\n",
              "SurfaceTempK            0\n",
              "DiscoveryMethod         0\n",
              "DiscoveryYear           0\n",
              "LastUpdated             0\n",
              "RightAscension          0\n",
              "Declination             0\n",
              "DistFromSunParsec       0\n",
              "HostStarMassSlrMass     0\n",
              "HostStarRadiusSlrRad    0\n",
              "HostStarMetallicity     0\n",
              "HostStarTempK           0\n",
              "HostStarAgeGyr          0\n",
              "ListsPlanetIsOn         0\n",
              "dtype: int64"
            ]
          },
          "metadata": {
            "tags": []
          },
          "execution_count": 53
        }
      ]
    },
    {
      "cell_type": "markdown",
      "metadata": {
        "id": "aILoNEoGQIKU"
      },
      "source": [
        "#JOINING THE DATA"
      ]
    },
    {
      "cell_type": "code",
      "metadata": {
        "id": "N3zlQGOafSJ3"
      },
      "source": [
        "DF=df_1.append(df_2)"
      ],
      "execution_count": null,
      "outputs": []
    },
    {
      "cell_type": "code",
      "metadata": {
        "id": "_lJkJzvziYpr"
      },
      "source": [
        "Df_1=DF.append(df_3)"
      ],
      "execution_count": null,
      "outputs": []
    },
    {
      "cell_type": "code",
      "metadata": {
        "id": "MIhXTI1Hitsv"
      },
      "source": [
        "df_final=Df_1.append(df_5)"
      ],
      "execution_count": null,
      "outputs": []
    },
    {
      "cell_type": "code",
      "metadata": {
        "id": "PRpWy92Wiyv0",
        "colab": {
          "base_uri": "https://localhost:8080/",
          "height": 34
        },
        "outputId": "10eac840-b52f-48ac-b191-2ebf983b5de7"
      },
      "source": [
        "df_final.shape"
      ],
      "execution_count": null,
      "outputs": [
        {
          "output_type": "execute_result",
          "data": {
            "text/plain": [
              "(3522, 24)"
            ]
          },
          "metadata": {
            "tags": []
          },
          "execution_count": 61
        }
      ]
    },
    {
      "cell_type": "code",
      "metadata": {
        "id": "c-h2DKOgjI5B",
        "colab": {
          "base_uri": "https://localhost:8080/",
          "height": 442
        },
        "outputId": "9b8e7591-eee4-433e-b463-bce33fe7b764"
      },
      "source": [
        "df_final.isnull().sum()"
      ],
      "execution_count": null,
      "outputs": [
        {
          "output_type": "execute_result",
          "data": {
            "text/plain": [
              "PlanetIdentifier        0\n",
              "TypeFlag                0\n",
              "PlanetaryMassJpt        0\n",
              "RadiusJpt               0\n",
              "PeriodDays              0\n",
              "SemiMajorAxisAU         0\n",
              "Eccentricity            0\n",
              "PeriastronDeg           0\n",
              "LongitudeDeg            0\n",
              "AscendingNodeDeg        0\n",
              "InclinationDeg          0\n",
              "SurfaceTempK            0\n",
              "DiscoveryMethod         0\n",
              "DiscoveryYear           0\n",
              "LastUpdated             8\n",
              "RightAscension          0\n",
              "Declination             0\n",
              "DistFromSunParsec       0\n",
              "HostStarMassSlrMass     0\n",
              "HostStarRadiusSlrRad    0\n",
              "HostStarMetallicity     0\n",
              "HostStarTempK           0\n",
              "HostStarAgeGyr          0\n",
              "ListsPlanetIsOn         0\n",
              "dtype: int64"
            ]
          },
          "metadata": {
            "tags": []
          },
          "execution_count": 62
        }
      ]
    },
    {
      "cell_type": "code",
      "metadata": {
        "id": "kd9wn6VJjQFz"
      },
      "source": [
        "df_final=df_final.drop(['LastUpdated','DiscoveryYear'],axis=1)"
      ],
      "execution_count": null,
      "outputs": []
    },
    {
      "cell_type": "code",
      "metadata": {
        "id": "CqnDNmS7jf2Q",
        "colab": {
          "base_uri": "https://localhost:8080/",
          "height": 408
        },
        "outputId": "ae741b5a-321b-4157-e629-cfb96fb40660"
      },
      "source": [
        "df_final.dtypes"
      ],
      "execution_count": null,
      "outputs": [
        {
          "output_type": "execute_result",
          "data": {
            "text/plain": [
              "PlanetIdentifier         object\n",
              "TypeFlag                  int64\n",
              "PlanetaryMassJpt        float64\n",
              "RadiusJpt               float64\n",
              "PeriodDays              float64\n",
              "SemiMajorAxisAU         float64\n",
              "Eccentricity            float64\n",
              "PeriastronDeg           float64\n",
              "LongitudeDeg            float64\n",
              "AscendingNodeDeg        float64\n",
              "InclinationDeg          float64\n",
              "SurfaceTempK            float64\n",
              "DiscoveryMethod          object\n",
              "RightAscension           object\n",
              "Declination              object\n",
              "DistFromSunParsec       float64\n",
              "HostStarMassSlrMass     float64\n",
              "HostStarRadiusSlrRad    float64\n",
              "HostStarMetallicity     float64\n",
              "HostStarTempK           float64\n",
              "HostStarAgeGyr          float64\n",
              "ListsPlanetIsOn           int64\n",
              "dtype: object"
            ]
          },
          "metadata": {
            "tags": []
          },
          "execution_count": 66
        }
      ]
    },
    {
      "cell_type": "markdown",
      "metadata": {
        "id": "rJrUNGD_QS-T"
      },
      "source": [
        "#ENCODING OBJECT VARIABLES"
      ]
    },
    {
      "cell_type": "code",
      "metadata": {
        "id": "lqDO9ySvjm7u"
      },
      "source": [
        "from sklearn import preprocessing\n",
        "le = preprocessing.LabelEncoder()\n",
        "df_final['PlanetIdentifier']=le.fit_transform(df_final['PlanetIdentifier'])\n",
        "df_final['DiscoveryMethod']=le.fit_transform(df_final['DiscoveryMethod'])\n",
        "df_final['RightAscension']=le.fit_transform(df_final['RightAscension'])\n",
        "df_final['Declination']=le.fit_transform(df_final['Declination'])"
      ],
      "execution_count": null,
      "outputs": []
    },
    {
      "cell_type": "code",
      "metadata": {
        "id": "7451SNamkl5B",
        "colab": {
          "base_uri": "https://localhost:8080/",
          "height": 408
        },
        "outputId": "e9ac1336-9860-4731-dab4-953264ca3dce"
      },
      "source": [
        "df_final.dtypes"
      ],
      "execution_count": null,
      "outputs": [
        {
          "output_type": "execute_result",
          "data": {
            "text/plain": [
              "PlanetIdentifier          int64\n",
              "TypeFlag                  int64\n",
              "PlanetaryMassJpt        float64\n",
              "RadiusJpt               float64\n",
              "PeriodDays              float64\n",
              "SemiMajorAxisAU         float64\n",
              "Eccentricity            float64\n",
              "PeriastronDeg           float64\n",
              "LongitudeDeg            float64\n",
              "AscendingNodeDeg        float64\n",
              "InclinationDeg          float64\n",
              "SurfaceTempK            float64\n",
              "DiscoveryMethod           int64\n",
              "RightAscension            int64\n",
              "Declination               int64\n",
              "DistFromSunParsec       float64\n",
              "HostStarMassSlrMass     float64\n",
              "HostStarRadiusSlrRad    float64\n",
              "HostStarMetallicity     float64\n",
              "HostStarTempK           float64\n",
              "HostStarAgeGyr          float64\n",
              "ListsPlanetIsOn           int64\n",
              "dtype: object"
            ]
          },
          "metadata": {
            "tags": []
          },
          "execution_count": 69
        }
      ]
    },
    {
      "cell_type": "code",
      "metadata": {
        "id": "Ed3qGc5ykqlB"
      },
      "source": [
        "X=df_final.drop('ListsPlanetIsOn',axis=1)\n",
        "y=df_final['ListsPlanetIsOn']"
      ],
      "execution_count": null,
      "outputs": []
    },
    {
      "cell_type": "code",
      "metadata": {
        "id": "LS2kYGhBlNLt"
      },
      "source": [
        "from sklearn.preprocessing import StandardScaler\n",
        "scaler = StandardScaler()\n",
        "X=scaler.fit_transform(X)"
      ],
      "execution_count": null,
      "outputs": []
    },
    {
      "cell_type": "code",
      "metadata": {
        "id": "oHs0Da3eleYM"
      },
      "source": [
        "from sklearn.model_selection import train_test_split\n",
        "X_train, X_test, y_train, y_test = train_test_split(X, y, test_size=0.2, random_state=500)"
      ],
      "execution_count": null,
      "outputs": []
    },
    {
      "cell_type": "markdown",
      "metadata": {
        "id": "6CdVB6boQdiP"
      },
      "source": [
        "#COMPENSIATE FOR THE IMBALANCE PRESENT IN THE DATA"
      ]
    },
    {
      "cell_type": "code",
      "metadata": {
        "id": "sNdq49XVl5R7"
      },
      "source": [
        "from xgboost import XGBClassifier\n",
        "model = XGBClassifier()"
      ],
      "execution_count": null,
      "outputs": []
    },
    {
      "cell_type": "markdown",
      "metadata": {
        "id": "dLn7xCctQtxY"
      },
      "source": [
        "#XGB HYPERPARAMETERS"
      ]
    },
    {
      "cell_type": "code",
      "metadata": {
        "id": "4yTS6oABnCSn"
      },
      "source": [
        "gbm_param_grid = {\n",
        "    'colsample_bytree': range(0, 1),\n",
        "    'n_estimators': range(50,100),\n",
        "    'max_depth': range(1, 10)\n",
        "}\n",
        "    \n"
      ],
      "execution_count": null,
      "outputs": []
    },
    {
      "cell_type": "code",
      "metadata": {
        "id": "XDMPajDXn5CQ"
      },
      "source": [
        "from sklearn.model_selection import RandomizedSearchCV"
      ],
      "execution_count": null,
      "outputs": []
    },
    {
      "cell_type": "markdown",
      "metadata": {
        "id": "WB43UUkiQz20"
      },
      "source": [
        "#RANDOM FOREST HYPERPARAMETERS"
      ]
    },
    {
      "cell_type": "code",
      "metadata": {
        "id": "m6MwvMeWqm9c"
      },
      "source": [
        "random_grid = {'n_estimators': range(100,2000),\n",
        "               'max_depth': range(1,100),\n",
        "               'min_samples_split': range(1,10),\n",
        "               'min_samples_leaf': range(1,10)}"
      ],
      "execution_count": null,
      "outputs": []
    },
    {
      "cell_type": "markdown",
      "metadata": {
        "id": "NZO5hdO5Q7--"
      },
      "source": [
        "#RANDOM SEARCH for XGB"
      ]
    },
    {
      "cell_type": "code",
      "metadata": {
        "id": "-T3lEbKpnPLb"
      },
      "source": [
        "randomized_mse = RandomizedSearchCV(estimator=model,param_distributions=gbm_param_grid,n_iter=50, scoring='balanced_accuracy', cv=4, verbose=1,n_jobs=-1)"
      ],
      "execution_count": null,
      "outputs": []
    },
    {
      "cell_type": "code",
      "metadata": {
        "id": "dwf8kQoInzkz",
        "colab": {
          "base_uri": "https://localhost:8080/",
          "height": 595
        },
        "outputId": "09b363fb-350f-4cd2-ca20-f087980090f5"
      },
      "source": [
        "randomized_mse.fit(X_train,y_train)"
      ],
      "execution_count": null,
      "outputs": [
        {
          "output_type": "stream",
          "text": [
            "Fitting 4 folds for each of 50 candidates, totalling 200 fits\n"
          ],
          "name": "stdout"
        },
        {
          "output_type": "stream",
          "text": [
            "[Parallel(n_jobs=-1)]: Using backend LokyBackend with 2 concurrent workers.\n",
            "[Parallel(n_jobs=-1)]: Done  46 tasks      | elapsed:    9.3s\n",
            "[Parallel(n_jobs=-1)]: Done 196 tasks      | elapsed:   35.2s\n",
            "[Parallel(n_jobs=-1)]: Done 200 out of 200 | elapsed:   35.5s finished\n"
          ],
          "name": "stderr"
        },
        {
          "output_type": "execute_result",
          "data": {
            "text/plain": [
              "RandomizedSearchCV(cv=4, error_score=nan,\n",
              "                   estimator=XGBClassifier(base_score=0.5, booster='gbtree',\n",
              "                                           colsample_bylevel=1,\n",
              "                                           colsample_bynode=1,\n",
              "                                           colsample_bytree=1, gamma=0,\n",
              "                                           learning_rate=0.1, max_delta_step=0,\n",
              "                                           max_depth={'scale_pos_weight': [1,\n",
              "                                                                           10,\n",
              "                                                                           25,\n",
              "                                                                           50,\n",
              "                                                                           75,\n",
              "                                                                           99,\n",
              "                                                                           100,\n",
              "                                                                           1000]},\n",
              "                                           min_child_weight=1, missing=None,\n",
              "                                           n_estimators=100, n_jobs=1,\n",
              "                                           nthread=None,\n",
              "                                           objective='binary:logis...\n",
              "                                           random_state=0, reg_alpha=0,\n",
              "                                           reg_lambda=1, scale_pos_weight=1,\n",
              "                                           seed=None, silent=None, subsample=1,\n",
              "                                           verbosity=1),\n",
              "                   iid='deprecated', n_iter=50, n_jobs=-1,\n",
              "                   param_distributions={'colsample_bytree': range(0, 1),\n",
              "                                        'max_depth': range(1, 10),\n",
              "                                        'n_estimators': range(50, 100)},\n",
              "                   pre_dispatch='2*n_jobs', random_state=None, refit=True,\n",
              "                   return_train_score=False, scoring='balanced_accuracy',\n",
              "                   verbose=1)"
            ]
          },
          "metadata": {
            "tags": []
          },
          "execution_count": 129
        }
      ]
    },
    {
      "cell_type": "code",
      "metadata": {
        "id": "k2PD4p2-n_Dr",
        "colab": {
          "base_uri": "https://localhost:8080/",
          "height": 136
        },
        "outputId": "378b1bbb-4ee1-4631-c9a6-9facf93eda8a"
      },
      "source": [
        "randomized_mse.best_estimator_"
      ],
      "execution_count": null,
      "outputs": [
        {
          "output_type": "execute_result",
          "data": {
            "text/plain": [
              "XGBClassifier(base_score=0.5, booster='gbtree', colsample_bylevel=1,\n",
              "              colsample_bynode=1, colsample_bytree=0, gamma=0,\n",
              "              learning_rate=0.1, max_delta_step=0, max_depth=2,\n",
              "              min_child_weight=1, missing=None, n_estimators=94, n_jobs=1,\n",
              "              nthread=None, objective='multi:softprob', random_state=0,\n",
              "              reg_alpha=0, reg_lambda=1, scale_pos_weight=1, seed=None,\n",
              "              silent=None, subsample=1, verbosity=1)"
            ]
          },
          "metadata": {
            "tags": []
          },
          "execution_count": 130
        }
      ]
    },
    {
      "cell_type": "code",
      "metadata": {
        "id": "eZq8SB0LprlU",
        "colab": {
          "base_uri": "https://localhost:8080/",
          "height": 34
        },
        "outputId": "3711cc44-de85-472c-e2b2-178114ddc8c7"
      },
      "source": [
        "randomized_mse.best_score_"
      ],
      "execution_count": null,
      "outputs": [
        {
          "output_type": "execute_result",
          "data": {
            "text/plain": [
              "0.9391964285714286"
            ]
          },
          "metadata": {
            "tags": []
          },
          "execution_count": 131
        }
      ]
    },
    {
      "cell_type": "markdown",
      "metadata": {
        "id": "poIiujitRER8"
      },
      "source": [
        "#VISUALISING HYPERPARAMETERS (XGB)\n"
      ]
    },
    {
      "cell_type": "code",
      "metadata": {
        "id": "e3_e0KzhwzDW"
      },
      "source": [
        "xgb_df=pd.DataFrame(randomized_mse.cv_results_)"
      ],
      "execution_count": null,
      "outputs": []
    },
    {
      "cell_type": "code",
      "metadata": {
        "id": "8r14hQECx1_7",
        "colab": {
          "base_uri": "https://localhost:8080/",
          "height": 119
        },
        "outputId": "b749cbdf-0808-44e7-988f-ceb00735700f"
      },
      "source": [
        "xgb_df.columns"
      ],
      "execution_count": null,
      "outputs": [
        {
          "output_type": "execute_result",
          "data": {
            "text/plain": [
              "Index(['mean_fit_time', 'std_fit_time', 'mean_score_time', 'std_score_time',\n",
              "       'param_n_estimators', 'param_max_depth', 'param_colsample_bytree',\n",
              "       'params', 'split0_test_score', 'split1_test_score', 'split2_test_score',\n",
              "       'split3_test_score', 'mean_test_score', 'std_test_score',\n",
              "       'rank_test_score'],\n",
              "      dtype='object')"
            ]
          },
          "metadata": {
            "tags": []
          },
          "execution_count": 133
        }
      ]
    },
    {
      "cell_type": "code",
      "metadata": {
        "id": "HnVaMDATyCg7",
        "colab": {
          "base_uri": "https://localhost:8080/",
          "height": 282
        },
        "outputId": "00cc00aa-25d6-4ac9-f969-277f6aeea096"
      },
      "source": [
        " plt.scatter('param_n_estimators', 'mean_test_score',data=xgb_df)"
      ],
      "execution_count": null,
      "outputs": [
        {
          "output_type": "execute_result",
          "data": {
            "text/plain": [
              "<matplotlib.collections.PathCollection at 0x7f3916216c18>"
            ]
          },
          "metadata": {
            "tags": []
          },
          "execution_count": 134
        },
        {
          "output_type": "display_data",
          "data": {
            "image/png": "[encoded data removed]",
            "text/plain": [
              "<Figure size 432x288 with 1 Axes>"
            ]
          },
          "metadata": {
            "tags": [],
            "needs_background": "light"
          }
        }
      ]
    },
    {
      "cell_type": "code",
      "metadata": {
        "id": "arXqeLb50q3n",
        "colab": {
          "base_uri": "https://localhost:8080/",
          "height": 282
        },
        "outputId": "5b3c82d6-95e0-43c5-b08a-359dadfdff4e"
      },
      "source": [
        "plt.scatter('param_max_depth', 'mean_test_score',data=xgb_df)"
      ],
      "execution_count": null,
      "outputs": [
        {
          "output_type": "execute_result",
          "data": {
            "text/plain": [
              "<matplotlib.collections.PathCollection at 0x7f39161cfd68>"
            ]
          },
          "metadata": {
            "tags": []
          },
          "execution_count": 135
        },
        {
          "output_type": "display_data",
          "data": {
            "image/png": "[encoded data removed]",
            "text/plain": [
              "<Figure size 432x288 with 1 Axes>"
            ]
          },
          "metadata": {
            "tags": [],
            "needs_background": "light"
          }
        }
      ]
    },
    {
      "cell_type": "code",
      "metadata": {
        "id": "dofgcsir0rq_",
        "colab": {
          "base_uri": "https://localhost:8080/",
          "height": 282
        },
        "outputId": "ee4a4242-0189-42dc-c781-fc520d814a0b"
      },
      "source": [
        "plt.scatter('param_colsample_bytree', 'mean_test_score',data=xgb_df)"
      ],
      "execution_count": null,
      "outputs": [
        {
          "output_type": "execute_result",
          "data": {
            "text/plain": [
              "<matplotlib.collections.PathCollection at 0x7f3915028be0>"
            ]
          },
          "metadata": {
            "tags": []
          },
          "execution_count": 136
        },
        {
          "output_type": "display_data",
          "data": {
            "image/png": "[encoded data removed]",
            "text/plain": [
              "<Figure size 432x288 with 1 Axes>"
            ]
          },
          "metadata": {
            "tags": [],
            "needs_background": "light"
          }
        }
      ]
    },
    {
      "cell_type": "code",
      "metadata": {
        "id": "_g0-pHivpu_A"
      },
      "source": [
        "from sklearn.ensemble import RandomForestClassifier\n",
        "clf = RandomForestClassifier()"
      ],
      "execution_count": null,
      "outputs": []
    },
    {
      "cell_type": "code",
      "metadata": {
        "id": "uckkNesKqF_l"
      },
      "source": [
        "randomized_mse_rf = RandomizedSearchCV(estimator=clf,param_distributions=random_grid,n_iter=50, scoring='balanced_accuracy', cv=4, verbose=1,n_jobs=-1)"
      ],
      "execution_count": null,
      "outputs": []
    },
    {
      "cell_type": "code",
      "metadata": {
        "id": "oa-yRyXhqOOC",
        "colab": {
          "base_uri": "https://localhost:8080/",
          "height": 578
        },
        "outputId": "a2df69bc-3358-4720-d581-a945ff7dc663"
      },
      "source": [
        "randomized_mse_rf.fit(X_train,y_train)"
      ],
      "execution_count": null,
      "outputs": [
        {
          "output_type": "stream",
          "text": [
            "Fitting 4 folds for each of 50 candidates, totalling 200 fits\n"
          ],
          "name": "stdout"
        },
        {
          "output_type": "stream",
          "text": [
            "[Parallel(n_jobs=-1)]: Using backend LokyBackend with 2 concurrent workers.\n",
            "[Parallel(n_jobs=-1)]: Done  46 tasks      | elapsed:  1.2min\n",
            "[Parallel(n_jobs=-1)]: Done 196 tasks      | elapsed:  5.6min\n",
            "[Parallel(n_jobs=-1)]: Done 200 out of 200 | elapsed:  5.7min finished\n"
          ],
          "name": "stderr"
        },
        {
          "output_type": "execute_result",
          "data": {
            "text/plain": [
              "RandomizedSearchCV(cv=4, error_score=nan,\n",
              "                   estimator=RandomForestClassifier(bootstrap=True,\n",
              "                                                    ccp_alpha=0.0,\n",
              "                                                    class_weight=None,\n",
              "                                                    criterion='gini',\n",
              "                                                    max_depth=None,\n",
              "                                                    max_features='auto',\n",
              "                                                    max_leaf_nodes=None,\n",
              "                                                    max_samples=None,\n",
              "                                                    min_impurity_decrease=0.0,\n",
              "                                                    min_impurity_split=None,\n",
              "                                                    min_samples_leaf=1,\n",
              "                                                    min_samples_split=2,\n",
              "                                                    min_weight_fraction_leaf=0.0,\n",
              "                                                    n_estimators=100,\n",
              "                                                    n_jobs...\n",
              "                                                    oob_score=False,\n",
              "                                                    random_state=None,\n",
              "                                                    verbose=0,\n",
              "                                                    warm_start=False),\n",
              "                   iid='deprecated', n_iter=50, n_jobs=-1,\n",
              "                   param_distributions={'max_depth': range(1, 100),\n",
              "                                        'min_samples_leaf': range(1, 10),\n",
              "                                        'min_samples_split': range(1, 10),\n",
              "                                        'n_estimators': range(100, 2000)},\n",
              "                   pre_dispatch='2*n_jobs', random_state=None, refit=True,\n",
              "                   return_train_score=False, scoring='balanced_accuracy',\n",
              "                   verbose=1)"
            ]
          },
          "metadata": {
            "tags": []
          },
          "execution_count": 138
        }
      ]
    },
    {
      "cell_type": "code",
      "metadata": {
        "id": "-X6AA-eDqSVL",
        "colab": {
          "base_uri": "https://localhost:8080/",
          "height": 34
        },
        "outputId": "ef70931a-f7ac-478c-ea58-c54ceaff0d4c"
      },
      "source": [
        "randomized_mse_rf.best_score_"
      ],
      "execution_count": null,
      "outputs": [
        {
          "output_type": "execute_result",
          "data": {
            "text/plain": [
              "1.0"
            ]
          },
          "metadata": {
            "tags": []
          },
          "execution_count": 139
        }
      ]
    },
    {
      "cell_type": "markdown",
      "metadata": {
        "id": "jQYc9eaBRU5s"
      },
      "source": [
        "#VISUALISING RANDOM FOREST HYPERPARAMETERS"
      ]
    },
    {
      "cell_type": "code",
      "metadata": {
        "id": "DDyMj3iVrcLv"
      },
      "source": [
        "rf_df=pd.DataFrame(randomized_mse_rf.cv_results_)"
      ],
      "execution_count": null,
      "outputs": []
    },
    {
      "cell_type": "code",
      "metadata": {
        "id": "03eg3twPvnqd",
        "colab": {
          "base_uri": "https://localhost:8080/",
          "height": 136
        },
        "outputId": "c774b443-daa9-4a0b-8b6f-f4279777fed2"
      },
      "source": [
        "rf_df.columns"
      ],
      "execution_count": null,
      "outputs": [
        {
          "output_type": "execute_result",
          "data": {
            "text/plain": [
              "Index(['mean_fit_time', 'std_fit_time', 'mean_score_time', 'std_score_time',\n",
              "       'param_n_estimators', 'param_min_samples_split',\n",
              "       'param_min_samples_leaf', 'param_max_depth', 'params',\n",
              "       'split0_test_score', 'split1_test_score', 'split2_test_score',\n",
              "       'split3_test_score', 'mean_test_score', 'std_test_score',\n",
              "       'rank_test_score'],\n",
              "      dtype='object')"
            ]
          },
          "metadata": {
            "tags": []
          },
          "execution_count": 141
        }
      ]
    },
    {
      "cell_type": "code",
      "metadata": {
        "id": "Tcpc7qz-8Qmc",
        "colab": {
          "base_uri": "https://localhost:8080/",
          "height": 282
        },
        "outputId": "ec2ce54b-a6ec-4533-8f12-45a0804106e9"
      },
      "source": [
        "plt.scatter('param_n_estimators', 'mean_test_score',data=rf_df)"
      ],
      "execution_count": null,
      "outputs": [
        {
          "output_type": "execute_result",
          "data": {
            "text/plain": [
              "<matplotlib.collections.PathCollection at 0x7f3914fd9358>"
            ]
          },
          "metadata": {
            "tags": []
          },
          "execution_count": 142
        },
        {
          "output_type": "display_data",
          "data": {
            "image/png": "[encoded data removed]",
            "text/plain": [
              "<Figure size 432x288 with 1 Axes>"
            ]
          },
          "metadata": {
            "tags": [],
            "needs_background": "light"
          }
        }
      ]
    },
    {
      "cell_type": "code",
      "metadata": {
        "id": "lzNXL4Yp8Q_r",
        "colab": {
          "base_uri": "https://localhost:8080/",
          "height": 282
        },
        "outputId": "c1429419-faf7-42a4-ed54-a4e9dceebcc5"
      },
      "source": [
        "plt.scatter('param_max_depth', 'mean_test_score',data=rf_df)"
      ],
      "execution_count": null,
      "outputs": [
        {
          "output_type": "execute_result",
          "data": {
            "text/plain": [
              "<matplotlib.collections.PathCollection at 0x7f39114ef710>"
            ]
          },
          "metadata": {
            "tags": []
          },
          "execution_count": 194
        },
        {
          "output_type": "display_data",
          "data": {
            "image/png": "[encoded data removed]",
            "text/plain": [
              "<Figure size 432x288 with 1 Axes>"
            ]
          },
          "metadata": {
            "tags": [],
            "needs_background": "light"
          }
        }
      ]
    },
    {
      "cell_type": "code",
      "metadata": {
        "id": "N4r0lsvD8Q1s",
        "colab": {
          "base_uri": "https://localhost:8080/",
          "height": 282
        },
        "outputId": "9ab607d4-06b9-4ecd-f4fe-da3b68a8148a"
      },
      "source": [
        "plt.scatter('param_min_samples_split', 'mean_test_score',data=rf_df)"
      ],
      "execution_count": null,
      "outputs": [
        {
          "output_type": "execute_result",
          "data": {
            "text/plain": [
              "<matplotlib.collections.PathCollection at 0x7f3911287cc0>"
            ]
          },
          "metadata": {
            "tags": []
          },
          "execution_count": 195
        },
        {
          "output_type": "display_data",
          "data": {
            "image/png": "[encoded data removed]",
            "text/plain": [
              "<Figure size 432x288 with 1 Axes>"
            ]
          },
          "metadata": {
            "tags": [],
            "needs_background": "light"
          }
        }
      ]
    },
    {
      "cell_type": "code",
      "metadata": {
        "id": "pYDhmwof8QZQ",
        "colab": {
          "base_uri": "https://localhost:8080/",
          "height": 282
        },
        "outputId": "e6c82efd-ff84-49ac-84ac-ff11aa6aca78"
      },
      "source": [
        "plt.scatter('param_n_estimators', 'mean_test_score',data=rf_df)"
      ],
      "execution_count": null,
      "outputs": [
        {
          "output_type": "execute_result",
          "data": {
            "text/plain": [
              "<matplotlib.collections.PathCollection at 0x7f3914e66a90>"
            ]
          },
          "metadata": {
            "tags": []
          },
          "execution_count": 145
        },
        {
          "output_type": "display_data",
          "data": {
            "image/png": "[encoded data removed]",
            "text/plain": [
              "<Figure size 432x288 with 1 Axes>"
            ]
          },
          "metadata": {
            "tags": [],
            "needs_background": "light"
          }
        }
      ]
    },
    {
      "cell_type": "markdown",
      "metadata": {
        "id": "zMo2ghPBjgj4"
      },
      "source": [
        "#Rectified Parameters taken for Grid Search(XGB)"
      ]
    },
    {
      "cell_type": "markdown",
      "metadata": {
        "id": "C73O2kOji0jH"
      },
      "source": [
        "#Taken from Visualising the hyperparameters from the Random Search of XGB"
      ]
    },
    {
      "cell_type": "code",
      "metadata": {
        "id": "fU8j2tJt9QN_"
      },
      "source": [
        "gbm_param_grid_final = {\n",
        "    'n_estimators': range(90,125),\n",
        "    'max_depth': range(1,5)\n",
        "}"
      ],
      "execution_count": null,
      "outputs": []
    },
    {
      "cell_type": "markdown",
      "metadata": {
        "id": "n3TpoxETRieM"
      },
      "source": [
        "#GRID SEARCH"
      ]
    },
    {
      "cell_type": "code",
      "metadata": {
        "id": "n57D8drfC2RF"
      },
      "source": [
        "from sklearn.model_selection import GridSearchCV"
      ],
      "execution_count": null,
      "outputs": []
    },
    {
      "cell_type": "code",
      "metadata": {
        "id": "ccKc-uu3Au88"
      },
      "source": [
        "Grid_mse = GridSearchCV(estimator=model,param_grid=gbm_param_grid_final, scoring='balanced_accuracy', cv=4, verbose=1,n_jobs=-1)"
      ],
      "execution_count": null,
      "outputs": []
    },
    {
      "cell_type": "code",
      "metadata": {
        "id": "-SbGeG9zC1KE",
        "colab": {
          "base_uri": "https://localhost:8080/",
          "height": 459
        },
        "outputId": "08f0628f-8217-455a-9aef-5163665a21f1"
      },
      "source": [
        "Grid_mse.fit(X_train,y_train)"
      ],
      "execution_count": null,
      "outputs": [
        {
          "output_type": "stream",
          "text": [
            "Fitting 4 folds for each of 140 candidates, totalling 560 fits\n"
          ],
          "name": "stdout"
        },
        {
          "output_type": "stream",
          "text": [
            "[Parallel(n_jobs=-1)]: Using backend LokyBackend with 2 concurrent workers.\n",
            "[Parallel(n_jobs=-1)]: Done  46 tasks      | elapsed:   11.9s\n",
            "[Parallel(n_jobs=-1)]: Done 196 tasks      | elapsed:  1.0min\n",
            "[Parallel(n_jobs=-1)]: Done 446 tasks      | elapsed:  2.8min\n",
            "[Parallel(n_jobs=-1)]: Done 560 out of 560 | elapsed:  3.7min finished\n"
          ],
          "name": "stderr"
        },
        {
          "output_type": "execute_result",
          "data": {
            "text/plain": [
              "GridSearchCV(cv=4, error_score=nan,\n",
              "             estimator=XGBClassifier(base_score=0.5, booster='gbtree',\n",
              "                                     colsample_bylevel=1, colsample_bynode=1,\n",
              "                                     colsample_bytree=1, gamma=0,\n",
              "                                     learning_rate=0.1, max_delta_step=0,\n",
              "                                     max_depth={'scale_pos_weight': [1, 10, 25,\n",
              "                                                                     50, 75, 99,\n",
              "                                                                     100,\n",
              "                                                                     1000]},\n",
              "                                     min_child_weight=1, missing=None,\n",
              "                                     n_estimators=100, n_jobs=1, nthread=None,\n",
              "                                     objective='binary:logistic',\n",
              "                                     random_state=0, reg_alpha=0, reg_lambda=1,\n",
              "                                     scale_pos_weight=1, seed=None, silent=None,\n",
              "                                     subsample=1, verbosity=1),\n",
              "             iid='deprecated', n_jobs=-1,\n",
              "             param_grid={'max_depth': range(1, 5),\n",
              "                         'n_estimators': range(90, 125)},\n",
              "             pre_dispatch='2*n_jobs', refit=True, return_train_score=False,\n",
              "             scoring='balanced_accuracy', verbose=1)"
            ]
          },
          "metadata": {
            "tags": []
          },
          "execution_count": 176
        }
      ]
    },
    {
      "cell_type": "code",
      "metadata": {
        "id": "5HciifgyDzWB",
        "colab": {
          "base_uri": "https://localhost:8080/",
          "height": 136
        },
        "outputId": "b27fe370-ba2e-4714-9911-55cd2f52726d"
      },
      "source": [
        "Grid_mse.best_estimator_"
      ],
      "execution_count": null,
      "outputs": [
        {
          "output_type": "execute_result",
          "data": {
            "text/plain": [
              "XGBClassifier(base_score=0.5, booster='gbtree', colsample_bylevel=1,\n",
              "              colsample_bynode=1, colsample_bytree=1, gamma=0,\n",
              "              learning_rate=0.1, max_delta_step=0, max_depth=1,\n",
              "              min_child_weight=1, missing=None, n_estimators=90, n_jobs=1,\n",
              "              nthread=None, objective='multi:softprob', random_state=0,\n",
              "              reg_alpha=0, reg_lambda=1, scale_pos_weight=1, seed=None,\n",
              "              silent=None, subsample=1, verbosity=1)"
            ]
          },
          "metadata": {
            "tags": []
          },
          "execution_count": 177
        }
      ]
    },
    {
      "cell_type": "code",
      "metadata": {
        "id": "9B0UEltyFWai",
        "colab": {
          "base_uri": "https://localhost:8080/",
          "height": 34
        },
        "outputId": "80cbca8f-fa9f-468f-a008-2ecf4d9b14a7"
      },
      "source": [
        "Grid_mse.best_score_"
      ],
      "execution_count": null,
      "outputs": [
        {
          "output_type": "execute_result",
          "data": {
            "text/plain": [
              "0.9799107142857143"
            ]
          },
          "metadata": {
            "tags": []
          },
          "execution_count": 178
        }
      ]
    },
    {
      "cell_type": "markdown",
      "metadata": {
        "id": "ydTi-0SjRoRn"
      },
      "source": [
        "#STACKING CLASSIFIER"
      ]
    },
    {
      "cell_type": "code",
      "metadata": {
        "id": "DkZUTb8pFcpY",
        "colab": {
          "base_uri": "https://localhost:8080/",
          "height": 71
        },
        "outputId": "6eab326e-a934-48d5-f5e4-d59c970d182f"
      },
      "source": [
        "from sklearn.linear_model import LogisticRegression\n",
        "from mlxtend.classifier import StackingClassifier"
      ],
      "execution_count": null,
      "outputs": [
        {
          "output_type": "stream",
          "text": [
            "/usr/local/lib/python3.6/dist-packages/sklearn/externals/six.py:31: FutureWarning: The module is deprecated in version 0.21 and will be removed in version 0.23 since we've dropped support for Python 2.7. Please rely on the official version of six (https://pypi.org/project/six/).\n",
            "  \"(https://pypi.org/project/six/).\", FutureWarning)\n"
          ],
          "name": "stderr"
        }
      ]
    },
    {
      "cell_type": "code",
      "metadata": {
        "id": "cTHFkB09LcHb"
      },
      "source": [
        "lr=LogisticRegression()"
      ],
      "execution_count": null,
      "outputs": []
    },
    {
      "cell_type": "code",
      "metadata": {
        "id": "iJVZXy6rLPNw",
        "colab": {
          "base_uri": "https://localhost:8080/",
          "height": 544
        },
        "outputId": "427976af-60cb-42eb-bc4a-119a1d6ad014"
      },
      "source": [
        "clf_stack=StackingClassifier(classifiers=[randomized_mse_rf.best_estimator_,Grid_mse.best_estimator_],meta_classifier=lr,use_features_in_secondary=False)\n",
        "clf_stack.fit(X_train, y_train)"
      ],
      "execution_count": null,
      "outputs": [
        {
          "output_type": "execute_result",
          "data": {
            "text/plain": [
              "StackingClassifier(average_probas=False,\n",
              "                   classifiers=[RandomForestClassifier(bootstrap=True,\n",
              "                                                       ccp_alpha=0.0,\n",
              "                                                       class_weight=None,\n",
              "                                                       criterion='gini',\n",
              "                                                       max_depth=69,\n",
              "                                                       max_features='auto',\n",
              "                                                       max_leaf_nodes=None,\n",
              "                                                       max_samples=None,\n",
              "                                                       min_impurity_decrease=0.0,\n",
              "                                                       min_impurity_split=None,\n",
              "                                                       min_samples_leaf=7,\n",
              "                                                       min_samples_split=8,\n",
              "                                                       min_weight_fraction_leaf=0.0,\n",
              "                                                       n_estimators=406,\n",
              "                                                       n_job...\n",
              "                   meta_classifier=LogisticRegression(C=1.0, class_weight=None,\n",
              "                                                      dual=False,\n",
              "                                                      fit_intercept=True,\n",
              "                                                      intercept_scaling=1,\n",
              "                                                      l1_ratio=None,\n",
              "                                                      max_iter=100,\n",
              "                                                      multi_class='auto',\n",
              "                                                      n_jobs=None, penalty='l2',\n",
              "                                                      random_state=None,\n",
              "                                                      solver='lbfgs',\n",
              "                                                      tol=0.0001, verbose=0,\n",
              "                                                      warm_start=False),\n",
              "                   store_train_meta_features=False, use_clones=True,\n",
              "                   use_features_in_secondary=False, use_probas=False,\n",
              "                   verbose=0)"
            ]
          },
          "metadata": {
            "tags": []
          },
          "execution_count": 181
        }
      ]
    },
    {
      "cell_type": "markdown",
      "metadata": {
        "id": "fufufHYoRvUu"
      },
      "source": [
        "#OVERFITTING CHECK"
      ]
    },
    {
      "cell_type": "code",
      "metadata": {
        "id": "k-oabSM2Li_D",
        "colab": {
          "base_uri": "https://localhost:8080/",
          "height": 34
        },
        "outputId": "a2ac3c16-2aad-4949-e8a0-5707f6999d8f"
      },
      "source": [
        "from sklearn.metrics import accuracy_score\n",
        "print(\"Accuracy: {:0.4f}\".format(accuracy_score(y_test, clf_stack.predict(X_test))))  "
      ],
      "execution_count": null,
      "outputs": [
        {
          "output_type": "stream",
          "text": [
            "Accuracy: 1.0000\n"
          ],
          "name": "stdout"
        }
      ]
    },
    {
      "cell_type": "code",
      "metadata": {
        "id": "5JlB4gSOL323",
        "colab": {
          "base_uri": "https://localhost:8080/",
          "height": 34
        },
        "outputId": "942d3366-3f47-4ec3-efff-a26b45087ea4"
      },
      "source": [
        "print(\"Accuracy: {:0.4f}\".format(accuracy_score(y_train, clf_stack.predict(X_train))))"
      ],
      "execution_count": null,
      "outputs": [
        {
          "output_type": "stream",
          "text": [
            "Accuracy: 1.0000\n"
          ],
          "name": "stdout"
        }
      ]
    },
    {
      "cell_type": "markdown",
      "metadata": {
        "id": "lGpjC-OXTRlH"
      },
      "source": [
        "#SAVING THE MODEL"
      ]
    },
    {
      "cell_type": "code",
      "metadata": {
        "id": "P-OulQ3LS8Ex"
      },
      "source": [
        "import pickle"
      ],
      "execution_count": null,
      "outputs": []
    },
    {
      "cell_type": "code",
      "metadata": {
        "id": "kJE52mHjNhOd"
      },
      "source": [
        "filename = 'finalized_model.sav'\n",
        "pickle.dump(clf_stack, open(filename, 'wb'))"
      ],
      "execution_count": null,
      "outputs": []
    },
    {
      "cell_type": "code",
      "metadata": {
        "id": "-o6riujfS_LM",
        "colab": {
          "base_uri": "https://localhost:8080/",
          "height": 34
        },
        "outputId": "4272919b-4e89-459a-d44a-37c686f3d387"
      },
      "source": [
        "loaded_model = pickle.load(open(filename, 'rb'))\n",
        "result = loaded_model.score(X_test,y_test)\n",
        "print(result)"
      ],
      "execution_count": null,
      "outputs": [
        {
          "output_type": "stream",
          "text": [
            "1.0\n"
          ],
          "name": "stdout"
        }
      ]
    },
    {
      "cell_type": "code",
      "metadata": {
        "id": "eX2zfNcdTFcc"
      },
      "source": [
        ""
      ],
      "execution_count": null,
      "outputs": []
    }
  ]
}